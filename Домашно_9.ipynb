{
  "nbformat": 4,
  "nbformat_minor": 0,
  "metadata": {
    "colab": {
      "provenance": []
    },
    "kernelspec": {
      "name": "python3",
      "display_name": "Python 3"
    },
    "language_info": {
      "name": "python"
    }
  },
  "cells": [
    {
      "cell_type": "code",
      "source": [
        "import numpy as np"
      ],
      "metadata": {
        "id": "b-PK_YOimhUC"
      },
      "execution_count": null,
      "outputs": []
    },
    {
      "cell_type": "code",
      "source": [
        "def objective_function(params):\n",
        "    # Compute the value of the objective function using the given parameters.\n",
        "    lambda_1 = params[0]\n",
        "    lambda_2 = params[1]\n",
        "    value = -(1/4.0)*(-2*(lambda_1*lambda_1)+2*lambda_1*(2+lambda_2)-lambda_2*(8+5*lambda_2))\n",
        "    return value\n",
        "\n",
        "def gradient(objective_function, params):\n",
        "    # Compute the gradient of the objective function with respect to each parameter.\n",
        "    lambda_1 = params[0]\n",
        "    lambda_2 = params[1]\n",
        "    grad = np.array([-(1/4.0)*(-4*lambda_1+2*(2+lambda_2)),-(1/4.0)*(2*lambda_1-8-10*lambda_2)])\n",
        "    \n",
        "    return grad"
      ],
      "metadata": {
        "id": "2bX7T8G4b45K"
      },
      "execution_count": null,
      "outputs": []
    },
    {
      "cell_type": "code",
      "execution_count": null,
      "metadata": {
        "id": "oGQ8P_rnb02z"
      },
      "outputs": [],
      "source": [
        "def gradient_descent(objective_function, gradient_function, initial_params, learning_rate, max_iterations):\n",
        "    # Initialize the parameters to the initial values.\n",
        "    params = initial_params\n",
        "    steps = []\n",
        "    p_lambda=[0,0]\n",
        "    \n",
        "    # Initialize the iteration counter to 0.\n",
        "    iteration = 0\n",
        "    \n",
        "    # Run the gradient descent algorithm until the maximum number of iterations is reached.\n",
        "    while iteration < max_iterations:\n",
        "        # Compute the gradient of the objective function with respect to the current parameters.\n",
        "        grad = gradient(objective_function, params)\n",
        "        p_lambda[0]=max(0, p_lambda[0]+grad)\n",
        "        \n",
        "        # Update the parameters using the gradient and the Hessian matrix.\n",
        "        params -= grad * learning_rate\n",
        "        p_lambda[1:] = max(0, p_lambda[1:].T+grad*(-params)))\n",
        "        steps.append(list(params))\n",
        "        \n",
        "        # Increment the iteration counter.\n",
        "        iteration += 1\n",
        "    \n",
        "    # Compute the final value of the objective function.\n",
        "    \n",
        "    # Return the optimized values of the parameters and the final value of the objective function.\n",
        "    return params,steps\n"
      ]
    },
    {
      "cell_type": "code",
      "source": [
        "initial_params = np.array([3.0,1.0])\n",
        "learning_rate = 0.1\n",
        "\n",
        "# Set the maximum number of iterations.\n",
        "max_iterations = 200\n",
        "\n",
        "# Run the gradient descent algorithm.\n",
        "params, steps= gradient_descent(objective_function, gradient, initial_params, learning_rate, max_iterations)\n",
        "\n",
        "# Print the optimized parameters and final value of the objective function.\n",
        "print(\"Optimized parameters:\", params)\n",
        "print(\"Steps\", steps)\n",
        "\n"
      ],
      "metadata": {
        "colab": {
          "base_uri": "https://localhost:8080/"
        },
        "id": "AITHV1celykQ",
        "outputId": "5b624861-1a43-4c6e-c3c4-8e9ed17ed1ae"
      },
      "execution_count": 1,
      "outputs": [
        {
          "output_type": "stream",
          "name": "stdout",
          "text": [
            "Optimized parameters: [1.0, 0.0]\n",
            "Steps [[2.85, 0.7], [2.7, 0.4674999999999999], [2.553375, 0.2856249999999999], [2.41231875, 0.14188749999999992], [2.27818125, 0.027031562499999925], [2.1517147031249997, -0.06581726562500008], [2.0332523695312497, -0.1417772140625001], [1.9228382718749997, -0.20467029207031262], [1.820320930083984, -0.2573608054589845], [1.7254207968026363, -0.3020045575900392], [1.6377784892428706, -0.3402323783523976], [1.5569890214009636, -0.3732853593021547], [1.4826258512957595, -0.40211456840656784], [1.4142575377458553, -0.42745463374013787], [1.3514590522842629, -0.4498780984178106], [1.2938192421349461, -0.46983562119914485], [1.2409455368614943, -0.4876857537926113], [1.1924666954857144, -0.5037170385013838], [1.1480341740120736, -0.5181644441017521], [1.1073225344057787, -0.5312216243757104], [1.0700291997464153, -0.5430500915614939], [1.035873775193699, -0.5537861086837996], [1.0045970922401393, -0.5635458927531648], [0.9759600883784671, -0.5724295649528667], [0.949742601292977, -0.5805241692957267], [0.925742132698893, -0.5879059969071462], [0.9037726195836464, -0.5946423910454149], [0.8836632380730111, -0.6007931623048789], [0.865257256150466, -0.6064117098250086], [0.848410945044169, -0.6115459195612332], [0.8329925545616905, -0.6162388924187164], [0.8188813544845857, -0.6205295415859527], [0.8059667419568295, -0.6244530884652353], [0.7941474133378847, -0.628041479251085], [0.783330598041542, -0.6]]\n"
          ]
        }
      ]
    },
    {
      "cell_type": "code",
      "source": [
        "import matplotlib.pyplot as plt\n",
        "from mpl_toolkits.mplot3d import Axes3D\n",
        "%matplotlib notebook\n",
        "%matplotlib inline\n",
        "\n",
        "x_vals = np.arange(-4, 4, 0.1)\n",
        "y_vals = np.arange(-4, 4, 0.1)\n",
        "\n",
        "# Create a meshgrid of the x, y, and z values.\n",
        "X, Y= np.meshgrid(x_vals, y_vals)\n",
        "\n",
        "# Compute the value of the objective function at each point in the meshgrid.\n",
        "values = np.zeros_like(X)\n",
        "for i in range(X.shape[0]):\n",
        "    for j in range(X.shape[1]):\n",
        "            values[i,j] = objective_function([X[i,j], Y[i,j]])\n",
        "\n",
        "fig, ax = plt.subplots(figsize=(10,10))\n",
        "contour_plot = ax.contour(X, Y, values, levels=10)\n",
        "ax.clabel(contour_plot, inline=1, fontsize=10)\n",
        "ax.set_xlabel('lambda_1')\n",
        "ax.set_ylabel('lambda_2')\n",
        "\n",
        "\n",
        "steps = np.array(steps)\n",
        "plt.plot(steps[:, 0], steps[:, 1], '-o', color='red', label='Gradient Descent')\n",
        "plt.legend()\n",
        "\n",
        "plt.show()"
      ],
      "metadata": {
        "id": "bcVRCD-_l8pv"
      },
      "execution_count": null,
      "outputs": []
    }
  ]
}