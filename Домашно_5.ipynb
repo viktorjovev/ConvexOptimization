{
  "nbformat": 4,
  "nbformat_minor": 0,
  "metadata": {
    "colab": {
      "provenance": [],
      "authorship_tag": "ABX9TyNS3EOnoFFy9vTzRuJ48fQz",
      "include_colab_link": true
    },
    "kernelspec": {
      "name": "python3",
      "display_name": "Python 3"
    },
    "language_info": {
      "name": "python"
    }
  },
  "cells": [
    {
      "cell_type": "markdown",
      "metadata": {
        "id": "view-in-github",
        "colab_type": "text"
      },
      "source": [
        "<a href=\"https://colab.research.google.com/github/viktorjovev/ConvexOptimization/blob/main/%D0%94%D0%BE%D0%BC%D0%B0%D1%88%D0%BD%D0%BE_5.ipynb\" target=\"_parent\"><img src=\"https://colab.research.google.com/assets/colab-badge.svg\" alt=\"Open In Colab\"/></a>"
      ]
    },
    {
      "cell_type": "markdown",
      "source": [
        "# **Домашно 2**"
      ],
      "metadata": {
        "id": "nOB6Sut1AP-N"
      }
    },
    {
      "cell_type": "code",
      "source": [
        "!pip install ortools"
      ],
      "metadata": {
        "id": "v4MntXOsGT1K"
      },
      "execution_count": null,
      "outputs": []
    },
    {
      "cell_type": "code",
      "execution_count": 2,
      "metadata": {
        "id": "oR3c5al4ALr6",
        "outputId": "9c5f3ec8-c47c-471d-9fe4-c47cfa9bbe80",
        "colab": {
          "base_uri": "https://localhost:8080/"
        }
      },
      "outputs": [
        {
          "output_type": "stream",
          "name": "stdout",
          "text": [
            "Решение:\n",
            "\tМаксимизирана вредност = 12151.57894736842\n",
            "\tx_1f = 0.0\n",
            "\tx_2f = 10.0\n",
            "\tx_3f = 0.0\n",
            "\tx_4f = 0.0\n",
            "\tx_1c = 0.0\n",
            "\tx_2c = 0.0\n",
            "\tx_3c = 12.947368421052621\n",
            "\tx_4c = 3.0526315789473797\n",
            "\tx_1r = 0.0\n",
            "\tx_2r = 5.000000000000001\n",
            "\tx_3r = 2.999999999999999\n",
            "\tx_4r = 0.0\n"
          ]
        }
      ],
      "source": [
        "from ortools.linear_solver import pywraplp\n",
        "\n",
        "solver = pywraplp.Solver.CreateSolver('GLOP')\n",
        "\n",
        "#Оптимизациските Променливи\n",
        "x_1f = solver.NumVar(0, solver.infinity(), 'x_1f')\n",
        "x_2f = solver.NumVar(0, solver.infinity(), 'x_2f')\n",
        "x_3f = solver.NumVar(0, solver.infinity(), 'x_3f')\n",
        "x_4f = solver.NumVar(0, solver.infinity(), 'x_4f')\n",
        "\n",
        "x_1c = solver.NumVar(0, solver.infinity(), 'x_1c')\n",
        "x_2c = solver.NumVar(0, solver.infinity(), 'x_2c')\n",
        "x_3c = solver.NumVar(0, solver.infinity(), 'x_3c')\n",
        "x_4c = solver.NumVar(0, solver.infinity(), 'x_4c')\n",
        "\n",
        "x_1r = solver.NumVar(0, solver.infinity(), 'x_1r')\n",
        "x_2r = solver.NumVar(0, solver.infinity(), 'x_2r')\n",
        "x_3r = solver.NumVar(0, solver.infinity(), 'x_3r')\n",
        "x_4r = solver.NumVar(0, solver.infinity(), 'x_4r')\n",
        "\n",
        "#Ограничувања\n",
        "\n",
        "#не смее да се надмине тежинскиот капацитет на секоја преграда\n",
        "solver.Add(x_1f + x_2f + x_3f + x_4f <= 10.0)\n",
        "solver.Add(x_1c + x_2c + x_3c + x_4c <= 16.0)\n",
        "solver.Add(x_1r + x_2r + x_3r + x_4r <= 10.0)\n",
        "#не смее да се надмине просторниот капацитет на секоја преграда\n",
        "solver.Add(480*x_1f + 650*x_2f + 580*x_3f + 390*x_4f <= 6800.0)\n",
        "solver.Add(480*x_1c + 650*x_2c + 580*x_3c + 390*x_4c <= 8700.0)\n",
        "solver.Add(480*x_1r + 650*x_2r + 580*x_3r + 390*x_4r <= 5300.0)\n",
        "#не смее да има вишок тежина при распределба на секое карго во преградите\n",
        "solver.Add(x_1f + x_1c + x_1r <= 18.0)\n",
        "solver.Add(x_2f + x_2c + x_2r <= 15.0)\n",
        "solver.Add(x_3f + x_3c + x_3r <= 23.0)\n",
        "solver.Add(x_4f + x_4c + x_4r <= 12.0)\n",
        "#не смее тежината на каргото во соодветна преграда да има\n",
        "#различен однос од тежинскиот капацитет на таа преграда за да има рамнотежа\n",
        "solver.Add((x_1f +x_2f + x_3f +x_4f)/10 == (x_1c +x_2c + x_3c + x_4c)/16 == (x_1r+x_2r+x_3r+x_4r)/8) \n",
        "\n",
        "#Максимизирање на профит (Целна функција)\n",
        "solver.Maximize(310*(x_1f+x_1c+x_1r) + 380*(x_2f+x_2c+x_2r) + 350*(x_3f+x_3c+x_3r) + 285*(x_4f+x_4c+x_4r))\n",
        "\n",
        "status = solver.Solve()\n",
        "if status == pywraplp.Solver.OPTIMAL:\n",
        "    print('Решение:')\n",
        "    print('\\tМаксимизирана вредност =', solver.Objective().Value())\n",
        "    print('\\tx_1f =', x_1f.solution_value())\n",
        "    print('\\tx_2f =', x_2f.solution_value())\n",
        "    print('\\tx_3f =', x_3f.solution_value())\n",
        "    print('\\tx_4f =', x_4f.solution_value())\n",
        "    print('\\tx_1c =', x_1c.solution_value())\n",
        "    print('\\tx_2c =', x_2c.solution_value())\n",
        "    print('\\tx_3c =', x_3c.solution_value())\n",
        "    print('\\tx_4c =', x_4c.solution_value())\n",
        "    print('\\tx_1r =', x_1r.solution_value())\n",
        "    print('\\tx_2r =', x_2r.solution_value())\n",
        "    print('\\tx_3r =', x_3r.solution_value())\n",
        "    print('\\tx_4r =', x_4r.solution_value())\n",
        "else:\n",
        "    print('Проблемот нема оптимално решение.')"
      ]
    },
    {
      "cell_type": "markdown",
      "source": [
        "# **Домашно 3**"
      ],
      "metadata": {
        "id": "qFkujNGygPDr"
      }
    },
    {
      "cell_type": "code",
      "source": [
        "import numpy as np\n",
        "from scipy.optimize import minimize\n",
        "\n",
        "solver = pywraplp.Solver.CreateSolver('GLOP')\n",
        "\n",
        "x1 = solver.NumVar(0, solver.infinity(), 'x1')\n",
        "x2 = solver.NumVar(0, solver.infinity(), 'x2')\n",
        "\n",
        "solver.Add(2*x1+x2>=1)\n",
        "solver.Add(x1+3*x2>=1)\n",
        "\n",
        "# A)\n",
        "solver.Minimize(x1+x2)\n",
        "status = solver.Solve()\n",
        "print('a) Решение:')\n",
        "if status == pywraplp.Solver.OPTIMAL:\n",
        "    print('\\tМинимизирана вредност =', solver.Objective().Value())\n",
        "    print('\\tx1 =', x1.solution_value())\n",
        "    print('\\tx2 =', x2.solution_value())    \n",
        "else:\n",
        "    print('\\tПроблемот нема оптимално решение.')\n",
        "\n",
        "# B)\n",
        "solver.Minimize(-x1-x2)\n",
        "status = solver.Solve()\n",
        "print('b) Решение:')\n",
        "if status == pywraplp.Solver.OPTIMAL:\n",
        "    print('\\tМинимизирана вредност =', solver.Objective().Value())\n",
        "    print('\\tx1 =', x1.solution_value())\n",
        "    print('\\tx2 =', x2.solution_value())    \n",
        "else:\n",
        "    print('\\tПроблемот нема оптимално решение.')\n",
        "\n",
        "# C)\n",
        "solver.Minimize(x1)\n",
        "status = solver.Solve()\n",
        "print('c) Решение:')\n",
        "if status == pywraplp.Solver.OPTIMAL:\n",
        "    print('\\tМинимизирана вредност =', solver.Objective().Value())\n",
        "    print('\\tx1 =', x1.solution_value())\n",
        "    print('\\tx2 =', x2.solution_value())    \n",
        "else:\n",
        "    print('\\tПроблемот нема оптимално решение.')\n",
        "\n",
        "def objective_D(x):\n",
        "    return np.amax([x[0], x[1]])\n",
        "\n",
        "def objective_E(x):\n",
        "    return x[0]**2 + 9*x[1]**2\n",
        "\n",
        "def constraint1(x):\n",
        "    return 2*x[0] + x[1] - 1\n",
        "\n",
        "def constraint2(x):\n",
        "    return x[0] + 3*x[1] - 1\n",
        "\n",
        "b = (0.0, None)\n",
        "bnds = (b, b)\n",
        "con1 = {'type': 'ineq', 'fun': constraint1}\n",
        "con2 = {'type': 'ineq', 'fun': constraint2}\n",
        "cons = [con1, con2]\n",
        "x0 = [0, 0]\n",
        "\n",
        "# D)\n",
        "res = minimize(objective_D, x0, method='SLSQP', bounds=bnds, constraints=cons)\n",
        "print('d) Решение:')\n",
        "print('\\tМинимизирана вредност =',objective_D(res.x) )\n",
        "print('\\tx1 =', res.x[0])\n",
        "print('\\tx2 =', res.x[1]) \n",
        "\n",
        "# E)\n",
        "res = minimize(objective_E, x0, method='SLSQP', bounds=bnds, constraints=cons)\n",
        "print('d) Решение:')\n",
        "print('\\tМинимизирана вредност =',objective_D(res.x) )\n",
        "print('\\tx1 =', res.x[0])\n",
        "print('\\tx2 =', res.x[1]) \n"
      ],
      "metadata": {
        "colab": {
          "base_uri": "https://localhost:8080/"
        },
        "id": "Z_jME98mpypW",
        "outputId": "fee7a0f4-0cac-4d1e-f3f7-3ad8b05a80db"
      },
      "execution_count": 3,
      "outputs": [
        {
          "output_type": "stream",
          "name": "stdout",
          "text": [
            "a) Решение:\n",
            "\tМинимизирана вредност = 0.6\n",
            "\tx1 = 0.4\n",
            "\tx2 = 0.19999999999999993\n",
            "b) Решение:\n",
            "\tПроблемот нема оптимално решение.\n",
            "c) Решение:\n",
            "\tМинимизирана вредност = 0.0\n",
            "\tx1 = 0.0\n",
            "\tx2 = 1.0\n",
            "d) Решение:\n",
            "\tМинимизирана вредност = 0.3333337807996315\n",
            "\tx1 = 0.3333337807996315\n",
            "\tx2 = 0.3333324384007895\n",
            "d) Решение:\n",
            "\tМинимизирана вредност = 0.499982961696048\n",
            "\tx1 = 0.499982961696048\n",
            "\tx2 = 0.1666723461013174\n"
          ]
        }
      ]
    },
    {
      "cell_type": "markdown",
      "source": [
        "# **Домашно 4**"
      ],
      "metadata": {
        "id": "_4oaTpM1xqT4"
      }
    },
    {
      "cell_type": "code",
      "source": [
        "import numpy as np\n",
        "from scipy.optimize import minimize\n",
        "\n",
        "def entropy(x, sign=-1.0):\n",
        "    return sign * np.sum(x * np.log10(x))\n",
        "\n",
        "def constraint(x):\n",
        "    return np.sum(x) - 1\n",
        "\n",
        "n = 15  # број на променливи\n",
        "x0 = np.ones(n) / n  # иницијални вредности-рамномерна распределба\n",
        "b = (0, 1)  # ограничувања за сите x_i вредности да бидат поголеми од 0\n",
        "bnds = [b for i in range(n)] # ги доделуваме овде тие ограничувања\n",
        "cons = {'type': 'eq', 'fun': constraint}  # главното ограничување, а тоа е збирот на променливите да е 1\n",
        "\n",
        "result = minimize(entropy, x0, method='SLSQP', bounds=bnds, constraints=cons)\n",
        "print(\"Максималната вредност на целната функција за n=%d e: \\n\\tlog(%d) = %f\" %(n, n,result.fun))"
      ],
      "metadata": {
        "colab": {
          "base_uri": "https://localhost:8080/"
        },
        "id": "WmO1PEkMpVjD",
        "outputId": "1e42c5ed-86fb-43a7-de96-d21fca6f6ff9"
      },
      "execution_count": 30,
      "outputs": [
        {
          "output_type": "stream",
          "name": "stdout",
          "text": [
            "Максималната вредност на целната функција за n=15 e: \n",
            "\tlog(15) = 1.176091\n"
          ]
        }
      ]
    },
    {
      "cell_type": "code",
      "source": [],
      "metadata": {
        "id": "Q-2csaTVyEzP"
      },
      "execution_count": null,
      "outputs": []
    }
  ]
}